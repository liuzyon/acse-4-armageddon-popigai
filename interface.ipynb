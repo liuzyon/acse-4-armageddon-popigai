{
 "cells": [
  {
   "cell_type": "markdown",
   "metadata": {},
   "source": [
    "# Armageddon\n",
    "## A simulation software produced by Popigai-2021\n",
    "\n",
    "This is a simulation software for events of one spherical asteroid entering Earth atmosphere, it predicts damage zones, caused by the coming asteroid, on Earth surface. The software also produces some graphs on the interested aspects on the asteroid.\n",
    "\n",
    "### Usage guideline\n",
    "\n",
    "The following cell contains all the basic parameters needed to start a simulation.\n",
    "\n",
    "- After keys in all the parameters in the cell, select 'Cell' -> 'Run Cells' in the tool bar to start a parameter check; proceed to next step if the cell outputs 'OK to proceed'; detail report is output in case of failing the parameter check\n",
    "\n",
    "- Select 'Kernel' -> 'Restart & Run All' in the tool bar would start the simulation, then scroll down to view the outputs; some cells would take some times to produce outputs depend on the parameters given"
   ]
  },
  {
   "cell_type": "code",
   "execution_count": null,
   "metadata": {},
   "outputs": [],
   "source": [
    "## Parameter for Earth\n",
    "# This set the atmospheric density profile in the simulation\n",
    "#     'exponential' is default; 'tabular' gives a better simulation\n",
    "atmos_func = 'exponential'\n",
    "\n",
    "## Parameters for asteroid (at initial altitude)\n",
    "# This is the initial altitude\n",
    "init_altitude = 1e5\n",
    "# This is the radius of the incoming asteroid (meter)\n",
    "radius = 10\n",
    "# This is the incoming angle of the asteroid (degree)\n",
    "angle = 20\n",
    "# This is the incoming velocity of the asteroid (m/s)\n",
    "velocity = 19e3\n",
    "# This is the density of the asteroid (kg/m^3)\n",
    "density = 3000\n",
    "# This is the strength of the asteroid (Pa)\n",
    "strength = 1e6\n",
    "# This is the entry latitude, longitude and bearing of the asteroid (degree)\n",
    "entry_lat, entry_lon, bearing = 51.2, 0.7, -35.0\n",
    "\n",
    "## Parameter about OUTPUT time-step\n",
    "# This is the output time-step, the time-step used in simulation would be smaller\n",
    "dt = .05\n",
    "\n",
    "## Parameters for damage levels\n",
    "# This set which level of damage is shown on a map\n",
    "#     True indicates the level is shown on the map\n",
    "levels = {\n",
    "    'level 1': True,\n",
    "    'level 2': True,\n",
    "    'level 3': True,\n",
    "    'level 4': True\n",
    "}\n",
    "\n",
    "## Parameter for damage mapping levels\n",
    "# This set the basic level for damage mapping\n",
    "#     'sector' is default, indicates infomation in the mapping is given at postcode sector level\n",
    "#     'unit' means infomation given at postcode unit level\n",
    "info_level = 'sector'\n",
    "\n",
    "## Parameters to generate outputs\n",
    "# set this to True to see damage mapping\n",
    "see_map = False\n",
    "# set this to True to see all plottings\n",
    "see_plot = False\n",
    "\n",
    "# ================== below are parameter checks ==================\n",
    "if atmos_func not in ['exponential', 'tabular']:\n",
    "    raise ValueError('atmos_func must be \\'exponential\\' or \\'tabular\\'')\n",
    "    \n",
    "if info_level not in ['sector', 'unit']:\n",
    "    raise ValueError('info_level must be \\'sector\\' or \\'unit\\'')\n",
    "    \n",
    "if (type(levels) != dict\n",
    "    or len(levels) != 4\n",
    "    or list(levels.keys()) != ['level 1', 'level 2', 'level 3', 'level 4']):\n",
    "    raise ValueError('only changing value is allowed for levels')\n",
    "for l in levels.values():\n",
    "    if type(l) != bool: raise ValueError('only boolean is allowed in levels')\n",
    "\n",
    "for var, var_name in zip([see_map, see_plot],\n",
    "                         ['see_map', 'see_plot']):\n",
    "    if type(var) != bool: raise ValueError('only boolean is allowed on %s' % var_name)\n",
    "        \n",
    "for var, var_name in zip([init_altitude, radius, velocity, density, strength, dt],\n",
    "                         ['init_altitude', 'radius', 'velocity', 'density', 'strength', 'dt']):\n",
    "    if type(var) not in [int, float]: raise ValueError('%s must be a number' % var_name)\n",
    "    if var <= 0: raise ValueError('%s must be a positive number' % var_name)\n",
    "        \n",
    "for var, var_name, var_range in zip([angle, entry_lat, entry_lon, bearing],\n",
    "                                    ['angle', 'entry_latitude', 'entry_longitude', 'bearing'],\n",
    "                                    [[0, 90], [-90, 90], [-180, 180], [-180, 360]]):\n",
    "    if type(var) not in [int, float]: raise ValueError('%s must be a number' % var_name)\n",
    "    if var < var_range[0] or var > var_range[1]:\n",
    "        raise ValueError('%s must be a number between %i and %i' % (var_name, var_range[0], var_range[1]))\n",
    "    \n",
    "print('OK to proceed')"
   ]
  },
  {
   "cell_type": "markdown",
   "metadata": {},
   "source": [
    "# === CHANGE WITH CAUTION ===\n",
    "\n",
    "This cell contains advanced parameters for the simulation, changing is allowed ONLY if you know what you are doing and these parameters WILL NOT be checked."
   ]
  },
  {
   "cell_type": "code",
   "execution_count": null,
   "metadata": {},
   "outputs": [],
   "source": [
    "# file that contains the atmosphric pressure for 'tabular' mode\n",
    "# change of file will lead to fetal error to the software\n",
    "atmos_filename = 'data/AltitudeDensityTable.csv'\n",
    "\n",
    "# some constants on Earth\n",
    "# drag coefficient\n",
    "Cd = 1.\n",
    "# heat transfer coefficient\n",
    "Ch = .1\n",
    "# heat of ablation\n",
    "Q = 1e7\n",
    "# lift coefficient\n",
    "Cl = 1e-3\n",
    "# dispresion coefficient\n",
    "alpha = 0.3\n",
    "# radius\n",
    "Rp = 6.371e6\n",
    "# gravity\n",
    "g = 9.81\n",
    "# atmosphric scale height\n",
    "H = 8000\n",
    "# air density at zero altitude\n",
    "rho0 = 1.2\n",
    "\n",
    "# parameter on entry angle unit\n",
    "radians = False\n",
    "\n",
    "# pressure value for each level\n",
    "pressure_levels = {\n",
    "    'level 1': 1e3,\n",
    "    'level 2': 3.5e3,\n",
    "    'level 3': 27e3,\n",
    "    'level 4': 43e3\n",
    "}\n",
    "\n",
    "# files contain postcode unit and sector level census data\n",
    "postcode_file = './armageddon/resources/full_postcodes.csv'\n",
    "census_file = './armageddon/resources/population_by_postcode_sector.csv'"
   ]
  },
  {
   "cell_type": "markdown",
   "metadata": {},
   "source": [
    "# === DO NOT CHANGE ANYTHING IN ANY CELL BELOW ==="
   ]
  },
  {
   "cell_type": "code",
   "execution_count": null,
   "metadata": {},
   "outputs": [],
   "source": [
    "import sys\n",
    "\n",
    "import matplotlib.pyplot as plt\n",
    "\n",
    "import armageddon as amgd"
   ]
  },
  {
   "cell_type": "code",
   "execution_count": null,
   "metadata": {},
   "outputs": [],
   "source": [
    "planet = amgd.Planet(\n",
    "    atmos_func=atmos_func, atmos_filename=atmos_filename,\n",
    "    Cd=Cd, Ch=Ch, Q=Q, Cl=Cl, alpha=alpha, Rp=Rp, g=g, H=H, rho0=rho0\n",
    ")\n",
    "\n",
    "result = planet.solve_atmospheric_entry(\n",
    "    radius, velocity, density, strength, angle,\n",
    "    init_altitude=init_altitude, dt=dt, radians=radians\n",
    ")\n",
    "\n",
    "result = planet.calculate_energy(result)\n",
    "outcome = planet.analyse_outcome(result)"
   ]
  },
  {
   "cell_type": "code",
   "execution_count": null,
   "metadata": {},
   "outputs": [],
   "source": [
    "pressures = []\n",
    "for p, b in zip(pressure_levels.values(), levels.values()):\n",
    "    if b: pressures.append(p)\n",
    "\n",
    "blast_lat, blast_lon, damage_rad = amgd.damage_zones(\n",
    "    outcome, lat=entry_lat, lon=entry_lon,\n",
    "    bearing=bearing, pressures=pressures\n",
    ")"
   ]
  },
  {
   "cell_type": "code",
   "execution_count": null,
   "metadata": {},
   "outputs": [],
   "source": [
    "locator = amgd.PostcodeLocator(\n",
    "    postcode_file=postcode_file,\n",
    "    census_file=census_file\n",
    ")\n",
    "\n",
    "sector = True\n",
    "if info_level == 'unit': sector = False\n",
    "    \n",
    "if see_map:\n",
    "    postcodes = locator.get_postcodes_by_radius((blast_lat, blast_lon), damage_rad, sector=sector)\n",
    "    population = locator.get_population_of_postcode(postcodes, sector=sector)\n",
    "    amgd.plot_results(\n",
    "        entry_lat, entry_lon,\n",
    "        blast_lat, blast_lon, damage_rad,\n",
    "        postcodes, population, sector=sector\n",
    "    )"
   ]
  },
  {
   "cell_type": "markdown",
   "metadata": {},
   "source": [
    "## Following plots are simulated data about the asteroid"
   ]
  },
  {
   "cell_type": "code",
   "execution_count": null,
   "metadata": {},
   "outputs": [],
   "source": [
    "if not see_plot: raise ValueError('Stop execution since see_plot=False')\n",
    "    \n",
    "times = result['time']\n",
    "altitude = result['altitude']"
   ]
  },
  {
   "cell_type": "code",
   "execution_count": null,
   "metadata": {},
   "outputs": [],
   "source": [
    "fig, axs = plt.subplots(figsize=(8, 6))\n",
    "axs.plot(times, altitude,)\n",
    "axs.set_xlabel('$s$', fontsize=14)\n",
    "axs.set_ylabel('$m$', fontsize=14)\n",
    "axs.set_title('altitude against time', fontsize=14)\n",
    "axs.grid(True)"
   ]
  },
  {
   "cell_type": "code",
   "execution_count": null,
   "metadata": {},
   "outputs": [],
   "source": [
    "fig, axs = plt.subplots(1, 2, figsize=(14, 6))\n",
    "fig.tight_layout(w_pad=5)\n",
    "\n",
    "axs[0].plot(altitude, result['velocity'])\n",
    "axs[0].set_xlabel('$m$', fontsize=14)\n",
    "axs[0].set_ylabel('$m/s$', fontsize=14)\n",
    "axs[0].set_title('velocity against altitude', fontsize=14)\n",
    "axs[0].grid(True)\n",
    "\n",
    "axs[1].plot(times, result['velocity'])\n",
    "axs[1].set_xlabel('$s$', fontsize=14)\n",
    "axs[1].set_ylabel('$m/s$', fontsize=14)\n",
    "axs[1].set_title('velocity against time', fontsize=14)\n",
    "axs[1].grid(True)"
   ]
  },
  {
   "cell_type": "code",
   "execution_count": null,
   "metadata": {},
   "outputs": [],
   "source": [
    "fig, axs = plt.subplots(1, 2, figsize=(14, 6))\n",
    "fig.tight_layout(w_pad=5)\n",
    "\n",
    "axs[0].plot(altitude, result['mass'])\n",
    "axs[0].set_xlabel('$m$', fontsize=14)\n",
    "axs[0].set_ylabel('kg', fontsize=14)\n",
    "axs[0].set_title('mass against altitude', fontsize=14)\n",
    "axs[0].grid(True)\n",
    "\n",
    "axs[1].plot(times, result['mass'])\n",
    "axs[1].set_xlabel('$s$', fontsize=14)\n",
    "axs[1].set_ylabel('kg', fontsize=14)\n",
    "axs[1].set_title('mass against time', fontsize=14)\n",
    "axs[1].grid(True)"
   ]
  },
  {
   "cell_type": "code",
   "execution_count": null,
   "metadata": {},
   "outputs": [],
   "source": [
    "fig, axs = plt.subplots(1, 2, figsize=(14, 6))\n",
    "fig.tight_layout(w_pad=5)\n",
    "\n",
    "axs[0].plot(altitude, result['angle'])\n",
    "axs[0].set_xlabel('$m$', fontsize=14)\n",
    "axs[0].set_ylabel('degree', fontsize=14)\n",
    "axs[0].set_title('angle against altitude', fontsize=14)\n",
    "axs[0].grid(True)\n",
    "\n",
    "axs[1].plot(times, result['angle'])\n",
    "axs[1].set_xlabel('$s$', fontsize=14)\n",
    "axs[1].set_ylabel('degree', fontsize=14)\n",
    "axs[1].set_title('angle against time', fontsize=14)\n",
    "axs[1].grid(True)"
   ]
  },
  {
   "cell_type": "code",
   "execution_count": null,
   "metadata": {},
   "outputs": [],
   "source": [
    "fig, axs = plt.subplots(1, 2, figsize=(14, 6))\n",
    "fig.tight_layout(w_pad=5)\n",
    "\n",
    "axs[0].plot(altitude, result['distance'])\n",
    "axs[0].set_xlabel('$m$', fontsize=14)\n",
    "axs[0].set_ylabel('$m$', fontsize=14)\n",
    "axs[0].set_title('surface distance against altitude', fontsize=14)\n",
    "axs[0].grid(True)\n",
    "\n",
    "axs[1].plot(times, result['distance'])\n",
    "axs[1].set_xlabel('$s$', fontsize=14)\n",
    "axs[1].set_ylabel('$m$', fontsize=14)\n",
    "axs[1].set_title('surface distance against time', fontsize=14)\n",
    "axs[1].grid(True)"
   ]
  },
  {
   "cell_type": "code",
   "execution_count": null,
   "metadata": {},
   "outputs": [],
   "source": [
    "fig, axs = plt.subplots(1, 2, figsize=(14, 6))\n",
    "fig.tight_layout(w_pad=5)\n",
    "\n",
    "axs[0].plot(altitude, result['radius'])\n",
    "axs[0].set_xlabel('$m$', fontsize=14)\n",
    "axs[0].set_ylabel('$m$', fontsize=14)\n",
    "axs[0].set_title('radius against altitude', fontsize=14)\n",
    "axs[0].grid(True)\n",
    "\n",
    "axs[1].plot(times, result['radius'])\n",
    "axs[1].set_xlabel('$s$', fontsize=14)\n",
    "axs[1].set_ylabel('$m$', fontsize=14)\n",
    "axs[1].set_title('radius against time', fontsize=14)\n",
    "axs[1].grid(True)"
   ]
  },
  {
   "cell_type": "code",
   "execution_count": null,
   "metadata": {},
   "outputs": [],
   "source": [
    "fig, axs = plt.subplots(1, 2, figsize=(14, 6))\n",
    "fig.tight_layout(w_pad=5)\n",
    "\n",
    "axs[0].plot(result['dedz'], altitude)\n",
    "axs[0].set_xlabel('Kt / $m$', fontsize=14)\n",
    "axs[0].set_ylabel('$m$', fontsize=14)\n",
    "axs[0].set_title('altitude against ΔKE', fontsize=14)\n",
    "axs[0].grid(True)\n",
    "\n",
    "axs[1].plot(altitude, result['dedz'])\n",
    "axs[1].set_xlabel('$m$', fontsize=14)\n",
    "axs[1].set_ylabel('Kt / $m$', fontsize=14)\n",
    "axs[1].set_title('ΔKE against altitude', fontsize=14)\n",
    "axs[1].grid(True)"
   ]
  }
 ],
 "metadata": {
  "kernelspec": {
   "display_name": "Python 3",
   "language": "python",
   "name": "python3"
  },
  "language_info": {
   "codemirror_mode": {
    "name": "ipython",
    "version": 3
   },
   "file_extension": ".py",
   "mimetype": "text/x-python",
   "name": "python",
   "nbconvert_exporter": "python",
   "pygments_lexer": "ipython3",
   "version": "3.8.2"
  }
 },
 "nbformat": 4,
 "nbformat_minor": 4
}
